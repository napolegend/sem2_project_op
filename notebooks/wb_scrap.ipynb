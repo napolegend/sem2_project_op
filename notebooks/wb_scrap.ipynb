{
 "cells": [
  {
   "cell_type": "code",
   "execution_count": 20,
   "id": "5122305f-b262-4091-b258-7e2cf5f06ec0",
   "metadata": {},
   "outputs": [],
   "source": [
    "from selenium import webdriver\n",
    "from selenium.webdriver.common.by import By\n",
    "from selenium.webdriver.chrome.service import Service\n",
    "from webdriver_manager.chrome import ChromeDriverManager\n",
    "import time\n",
    "import csv\n",
    "import requests\n",
    "import json"
   ]
  },
  {
   "cell_type": "code",
   "execution_count": 21,
   "id": "55a21977-53ce-4df3-9297-4f4bdb7f0caf",
   "metadata": {},
   "outputs": [],
   "source": [
    "driver = webdriver.Chrome(service=Service(ChromeDriverManager().install()))\n",
    "driver.maximize_window()"
   ]
  },
  {
   "cell_type": "code",
   "execution_count": null,
   "id": "af881006-050c-4ecf-bda5-d6d7fe435a5c",
   "metadata": {},
   "outputs": [],
   "source": [
    "\"\"\" \n",
    "Во время сбора данных, WB, естественно банит нас, поэтому была введена переменная error_page - страница на которой был получен бан. \n",
    "Мы сохраняем данные, которые мы уже успели получить в файл с этим error page и начинаем скреппинг уже с этой страницы снова где-то через 10 минут\n",
    "\"\"\"\n",
    "data = []\n",
    "error_page = 23\n",
    "headers = {\n",
    "    \"User-Agent\": \"Mozilla/5.0 (X11; Linux x86_64; rv:137.0) Gecko/20100101 Firefox/137.0\"\n",
    "}\n",
    "\n",
    "for i in range(23 - error_page):\n",
    "    \n",
    "    # открываем URL\n",
    "    url = f\"https://www.wildberries.ru/catalog/0/search.aspx?page={i+error_page}&sort=popular&search=%D0%BB%D0%B5%D1%82%D0%BD%D1%8F%D1%8F+%D0%BE%D0%B4%D0%B5%D0%B6%D0%B4%D0%B0\"\n",
    "    driver.get(url)\n",
    "    time.sleep(7) # Чуть замедлимся, чтобы вб не отказал нам в доступе\n",
    "    \n",
    "    # Прокручиваем страницу, чтобы прогрузить все товары\n",
    "    for i in range(4):\n",
    "        driver.execute_script(\"window.scrollTo(0, document.body.scrollHeight);\")\n",
    "        time.sleep(1)\n",
    "        \n",
    "    items = driver.find_elements(By.CLASS_NAME, \"product-card\")\n",
    "    for item in items:\n",
    "        try:\n",
    "            # Основная информация\n",
    "            name = item.find_element(By.CSS_SELECTOR, \".product-card__name\").text.strip()\n",
    "            price = item.find_element(By.CSS_SELECTOR, \".price__lower-price\").text.strip()\n",
    "            link = item.find_element(By.CSS_SELECTOR, \".product-card__link\").get_attribute(\"href\")\n",
    "            \n",
    "            # Извлекаем артикул из ссылки\n",
    "            articul = link.split('/')[4]\n",
    "            \n",
    "            # Формируем URL для истории цен\n",
    "            vol = articul[:4]\n",
    "            part = articul[:6]\n",
    "            \n",
    "            # Получаем историю цен\n",
    "            price_history = None\n",
    "    \n",
    "            # т.к. у WB есть несколько поддоменов basket-10, basket-20 итд, где может храниться история цен, попробуем взять ее с каждого\n",
    "            basket_nums = []\n",
    "            for i in range(23):\n",
    "                num = i+1\n",
    "                if num < 10:\n",
    "                    basket_nums.append(f\"0{num}\")\n",
    "                else:\n",
    "                    basket_nums.append(f\"{num}\")\n",
    "            for i in basket_nums:\n",
    "                price_history_url = f\"https://basket-{i}.wbbasket.ru/vol{vol}/part{part}/{articul}/info/price-history.json\"\n",
    "                response = requests.get(price_history_url, headers=headers)\n",
    "                if response.status_code == 200:\n",
    "                    price_history = response.json()\n",
    "                    break  \n",
    "            \n",
    "            if price_history != None:\n",
    "                data.append({\n",
    "                \"Название\": name,\n",
    "                \"Артикул\": articul,\n",
    "                \"Текущая_цена\": price,\n",
    "                \"История_цен\": json.dumps(price_history, ensure_ascii=False) if price_history else None\n",
    "            })\n",
    "                print(f\"{name} {articul} {price}\")\n",
    "    \n",
    "        except Exception as e:\n",
    "            print(f\"Ошибка: {e}\")\n",
    "            print(f\"Задайте error_page = {i+error_page}\") # Лучше делать это вручную, так как это получилось стабильнее"
   ]
  },
  {
   "cell_type": "code",
   "execution_count": 24,
   "id": "5a03f78c-4412-4687-8690-54ef41c03351",
   "metadata": {},
   "outputs": [],
   "source": [
    "error_page = 23\n",
    "with open(f\"../data/wildberries_data_{error_page}.csv\", \"w\", newline=\"\", encoding=\"utf-8\") as file:\n",
    "    writer = csv.DictWriter(file, fieldnames=[\"Название\", \"Артикул\", \"Текущая_цена\", \"История_цен\"])\n",
    "    writer.writeheader()\n",
    "    writer.writerows(data)\n",
    "\n",
    "driver.quit()"
   ]
  },
  {
   "cell_type": "code",
   "execution_count": null,
   "id": "38e1d806-ab60-428a-b510-3534fbb6bd32",
   "metadata": {},
   "outputs": [],
   "source": []
  }
 ],
 "metadata": {
  "kernelspec": {
   "display_name": "Python 3 (ipykernel)",
   "language": "python",
   "name": "python3"
  },
  "language_info": {
   "codemirror_mode": {
    "name": "ipython",
    "version": 3
   },
   "file_extension": ".py",
   "mimetype": "text/x-python",
   "name": "python",
   "nbconvert_exporter": "python",
   "pygments_lexer": "ipython3",
   "version": "3.11.11"
  }
 },
 "nbformat": 4,
 "nbformat_minor": 5
}
