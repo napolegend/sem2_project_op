{
 "cells": [
  {
   "cell_type": "code",
   "execution_count": 60,
   "id": "7e0fb62b-3106-4147-b014-44aa49ff7424",
   "metadata": {
    "scrolled": true
   },
   "outputs": [],
   "source": [
    "import pandas as pd\n",
    "import matplotlib.pyplot as plt\n",
    "import json\n",
    "from datetime import datetime\n",
    "import numpy as np\n",
    "from scipy import stats\n"
   ]
  },
  {
   "cell_type": "code",
   "execution_count": 71,
   "id": "5cc9493b-fe82-4e43-a2b6-f5c4500ef282",
   "metadata": {},
   "outputs": [],
   "source": [
    "df = pd.read_csv('../data/wildberries_data_all.csv', converters={\"История_цен\": json.loads, \"Текущая_цена\": lambda x: int(\"\".join(x[:-1].split())) * 100})"
   ]
  }
 ],
 "metadata": {
  "kernelspec": {
   "display_name": "Python 3 (ipykernel)",
   "language": "python",
   "name": "python3"
  },
  "language_info": {
   "codemirror_mode": {
    "name": "ipython",
    "version": 3
   },
   "file_extension": ".py",
   "mimetype": "text/x-python",
   "name": "python",
   "nbconvert_exporter": "python",
   "pygments_lexer": "ipython3",
   "version": "3.11.11"
  }
 },
 "nbformat": 4,
 "nbformat_minor": 5
}
